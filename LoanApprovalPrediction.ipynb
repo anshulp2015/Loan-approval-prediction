{
 "cells": [
  {
   "cell_type": "code",
   "execution_count": 2,
   "metadata": {
    "collapsed": true
   },
   "outputs": [],
   "source": [
    "# Importing the liraries\n",
    "import numpy as np\n",
    "import matplotlib.pyplot as plt\n",
    "import pandas as pd\n",
    "from keras.models import Sequential\n",
    "from keras.layers import Dense"
   ]
  },
  {
   "cell_type": "code",
   "execution_count": 20,
   "metadata": {
    "collapsed": true
   },
   "outputs": [],
   "source": [
    "dataset = pd.read_csv('Loan_train.csv')"
   ]
  },
  {
   "cell_type": "code",
   "execution_count": 21,
   "metadata": {},
   "outputs": [
    {
     "data": {
      "text/html": [
       "<div>\n",
       "<style>\n",
       "    .dataframe thead tr:only-child th {\n",
       "        text-align: right;\n",
       "    }\n",
       "\n",
       "    .dataframe thead th {\n",
       "        text-align: left;\n",
       "    }\n",
       "\n",
       "    .dataframe tbody tr th {\n",
       "        vertical-align: top;\n",
       "    }\n",
       "</style>\n",
       "<table border=\"1\" class=\"dataframe\">\n",
       "  <thead>\n",
       "    <tr style=\"text-align: right;\">\n",
       "      <th></th>\n",
       "      <th>Loan_ID</th>\n",
       "      <th>Gender</th>\n",
       "      <th>Married</th>\n",
       "      <th>Dependents</th>\n",
       "      <th>Education</th>\n",
       "      <th>Self_Employed</th>\n",
       "      <th>ApplicantIncome</th>\n",
       "      <th>CoapplicantIncome</th>\n",
       "      <th>LoanAmount</th>\n",
       "      <th>Loan_Amount_Term</th>\n",
       "      <th>Credit_History</th>\n",
       "      <th>Property_Area</th>\n",
       "      <th>Loan_Status</th>\n",
       "    </tr>\n",
       "  </thead>\n",
       "  <tbody>\n",
       "    <tr>\n",
       "      <th>0</th>\n",
       "      <td>LP001002</td>\n",
       "      <td>Male</td>\n",
       "      <td>No</td>\n",
       "      <td>0</td>\n",
       "      <td>Graduate</td>\n",
       "      <td>No</td>\n",
       "      <td>5849</td>\n",
       "      <td>0.0</td>\n",
       "      <td>NaN</td>\n",
       "      <td>360.0</td>\n",
       "      <td>1.0</td>\n",
       "      <td>Urban</td>\n",
       "      <td>Y</td>\n",
       "    </tr>\n",
       "    <tr>\n",
       "      <th>1</th>\n",
       "      <td>LP001003</td>\n",
       "      <td>Male</td>\n",
       "      <td>Yes</td>\n",
       "      <td>1</td>\n",
       "      <td>Graduate</td>\n",
       "      <td>No</td>\n",
       "      <td>4583</td>\n",
       "      <td>1508.0</td>\n",
       "      <td>128.0</td>\n",
       "      <td>360.0</td>\n",
       "      <td>1.0</td>\n",
       "      <td>Rural</td>\n",
       "      <td>N</td>\n",
       "    </tr>\n",
       "    <tr>\n",
       "      <th>2</th>\n",
       "      <td>LP001005</td>\n",
       "      <td>Male</td>\n",
       "      <td>Yes</td>\n",
       "      <td>0</td>\n",
       "      <td>Graduate</td>\n",
       "      <td>Yes</td>\n",
       "      <td>3000</td>\n",
       "      <td>0.0</td>\n",
       "      <td>66.0</td>\n",
       "      <td>360.0</td>\n",
       "      <td>1.0</td>\n",
       "      <td>Urban</td>\n",
       "      <td>Y</td>\n",
       "    </tr>\n",
       "    <tr>\n",
       "      <th>3</th>\n",
       "      <td>LP001006</td>\n",
       "      <td>Male</td>\n",
       "      <td>Yes</td>\n",
       "      <td>0</td>\n",
       "      <td>Not Graduate</td>\n",
       "      <td>No</td>\n",
       "      <td>2583</td>\n",
       "      <td>2358.0</td>\n",
       "      <td>120.0</td>\n",
       "      <td>360.0</td>\n",
       "      <td>1.0</td>\n",
       "      <td>Urban</td>\n",
       "      <td>Y</td>\n",
       "    </tr>\n",
       "    <tr>\n",
       "      <th>4</th>\n",
       "      <td>LP001008</td>\n",
       "      <td>Male</td>\n",
       "      <td>No</td>\n",
       "      <td>0</td>\n",
       "      <td>Graduate</td>\n",
       "      <td>No</td>\n",
       "      <td>6000</td>\n",
       "      <td>0.0</td>\n",
       "      <td>141.0</td>\n",
       "      <td>360.0</td>\n",
       "      <td>1.0</td>\n",
       "      <td>Urban</td>\n",
       "      <td>Y</td>\n",
       "    </tr>\n",
       "  </tbody>\n",
       "</table>\n",
       "</div>"
      ],
      "text/plain": [
       "    Loan_ID Gender Married Dependents     Education Self_Employed  \\\n",
       "0  LP001002   Male      No          0      Graduate            No   \n",
       "1  LP001003   Male     Yes          1      Graduate            No   \n",
       "2  LP001005   Male     Yes          0      Graduate           Yes   \n",
       "3  LP001006   Male     Yes          0  Not Graduate            No   \n",
       "4  LP001008   Male      No          0      Graduate            No   \n",
       "\n",
       "   ApplicantIncome  CoapplicantIncome  LoanAmount  Loan_Amount_Term  \\\n",
       "0             5849                0.0         NaN             360.0   \n",
       "1             4583             1508.0       128.0             360.0   \n",
       "2             3000                0.0        66.0             360.0   \n",
       "3             2583             2358.0       120.0             360.0   \n",
       "4             6000                0.0       141.0             360.0   \n",
       "\n",
       "   Credit_History Property_Area Loan_Status  \n",
       "0             1.0         Urban           Y  \n",
       "1             1.0         Rural           N  \n",
       "2             1.0         Urban           Y  \n",
       "3             1.0         Urban           Y  \n",
       "4             1.0         Urban           Y  "
      ]
     },
     "execution_count": 21,
     "metadata": {},
     "output_type": "execute_result"
    }
   ],
   "source": [
    "dataset.head()"
   ]
  },
  {
   "cell_type": "code",
   "execution_count": 82,
   "metadata": {
    "collapsed": true
   },
   "outputs": [],
   "source": [
    "# features = dataset.iloc[:, [5,6,7,9,10]]"
   ]
  },
  {
   "cell_type": "code",
   "execution_count": 22,
   "metadata": {
    "collapsed": true
   },
   "outputs": [],
   "source": [
    "loan_id = dataset['Loan_ID']"
   ]
  },
  {
   "cell_type": "code",
   "execution_count": 23,
   "metadata": {
    "collapsed": true
   },
   "outputs": [],
   "source": [
    "dataset = dataset.drop('Loan_ID', axis = 1)"
   ]
  },
  {
   "cell_type": "code",
   "execution_count": 27,
   "metadata": {
    "collapsed": true
   },
   "outputs": [],
   "source": [
    "X = dataset.iloc[:, :-1].values # Matrix of features\n",
    "y = dataset.iloc[:, -1].values # Dependent variable"
   ]
  },
  {
   "cell_type": "code",
   "execution_count": 13,
   "metadata": {},
   "outputs": [
    {
     "name": "stdout",
     "output_type": "stream",
     "text": [
      "<class 'pandas.core.frame.DataFrame'>\n",
      "RangeIndex: 614 entries, 0 to 613\n",
      "Data columns (total 12 columns):\n",
      "Gender               614 non-null int64\n",
      "Married              614 non-null int64\n",
      "Dependents           614 non-null int64\n",
      "Education            614 non-null int64\n",
      "Self_Employed        614 non-null int64\n",
      "ApplicantIncome      614 non-null int64\n",
      "CoapplicantIncome    614 non-null float64\n",
      "LoanAmount           614 non-null float64\n",
      "Loan_Amount_Term     614 non-null float64\n",
      "Credit_History       614 non-null float64\n",
      "Property_Area        614 non-null int64\n",
      "Loan_Status          614 non-null int64\n",
      "dtypes: float64(4), int64(8)\n",
      "memory usage: 57.6 KB\n"
     ]
    }
   ],
   "source": [
    "dataset.info()"
   ]
  },
  {
   "cell_type": "code",
   "execution_count": 24,
   "metadata": {
    "collapsed": true
   },
   "outputs": [],
   "source": [
    "# Filling in Missing values\n",
    "\n",
    "dataset['Gender'].fillna('Male', inplace = True)\n",
    "\n",
    "dataset['Married'].fillna('Yes', inplace = True)\n",
    "\n",
    "dataset['Dependents'].fillna(0, inplace = True)\n",
    "\n",
    "dataset['Self_Employed'].fillna('No', inplace = True)\n",
    "\n",
    "dataset['LoanAmount'].fillna(146.0, inplace = True)\n",
    "\n",
    "dataset['Loan_Amount_Term'].fillna(360.0, inplace = True)\n",
    "\n",
    "dataset['Credit_History'].fillna(1.0, inplace = True)"
   ]
  },
  {
   "cell_type": "code",
   "execution_count": 25,
   "metadata": {
    "collapsed": true
   },
   "outputs": [],
   "source": [
    "# Encoding the categorical variables\n",
    "from sklearn.preprocessing import LabelEncoder\n",
    "# obj_cols = [x for x in dataset.columns if dataset[x].dtype == 'object']\n",
    "obj_cols = ['Gender','Married','Education', 'Self_Employed', 'Property_Area', 'Loan_Status']\n",
    "for i in obj_cols:\n",
    "    encoder = LabelEncoder()\n",
    "    encoder.fit(dataset[i])\n",
    "    dataset[i] = encoder.transform(dataset[i])\n",
    "    "
   ]
  },
  {
   "cell_type": "code",
   "execution_count": 26,
   "metadata": {
    "collapsed": true
   },
   "outputs": [],
   "source": [
    "# Encoding the dependents column\n",
    "dataset['Dependents'].replace('0', 0, inplace = True)\n",
    "dataset['Dependents'].replace('1', 1, inplace = True)\n",
    "dataset['Dependents'].replace('2', 2, inplace = True)\n",
    "dataset['Dependents'].replace('3+', 3, inplace = True)"
   ]
  },
  {
   "cell_type": "code",
   "execution_count": 15,
   "metadata": {
    "collapsed": true,
    "scrolled": true
   },
   "outputs": [],
   "source": [
    "from sklearn.model_selection import train_test_split\n",
    "X_train, X_test, y_train, y_test = train_test_split(X, y, test_size = 0.20, random_state = 0)"
   ]
  },
  {
   "cell_type": "code",
   "execution_count": 29,
   "metadata": {},
   "outputs": [],
   "source": [
    "from sklearn.preprocessing import StandardScaler\n",
    "sc_X = StandardScaler()\n",
    "X = sc_X.fit_transform(X)\n",
    "#X_test = sc_X.transform(X_test)"
   ]
  },
  {
   "cell_type": "code",
   "execution_count": 42,
   "metadata": {},
   "outputs": [
    {
     "name": "stderr",
     "output_type": "stream",
     "text": [
      "C:\\Users\\Anshul\\Anaconda3\\envs\\py35\\lib\\site-packages\\ipykernel_launcher.py:4: UserWarning: Update your `Dense` call to the Keras 2 API: `Dense(activation=\"relu\", units=128, input_dim=11, kernel_initializer=\"uniform\")`\n",
      "  after removing the cwd from sys.path.\n",
      "C:\\Users\\Anshul\\Anaconda3\\envs\\py35\\lib\\site-packages\\ipykernel_launcher.py:6: UserWarning: Update your `Dense` call to the Keras 2 API: `Dense(activation=\"relu\", units=256, kernel_initializer=\"uniform\")`\n",
      "  \n",
      "C:\\Users\\Anshul\\Anaconda3\\envs\\py35\\lib\\site-packages\\ipykernel_launcher.py:8: UserWarning: Update your `Dense` call to the Keras 2 API: `Dense(activation=\"sigmoid\", units=1, kernel_initializer=\"uniform\")`\n",
      "  \n"
     ]
    }
   ],
   "source": [
    "# Making the ANN\n",
    "classifier = Sequential()\n",
    "\n",
    "classifier.add(Dense(output_dim = 128, init = 'uniform', activation = 'relu', input_dim = 11))\n",
    "\n",
    "classifier.add(Dense(output_dim = 256, init = 'uniform', activation = 'relu'))\n",
    "\n",
    "classifier.add(Dense(output_dim = 1, init = 'uniform', activation = 'sigmoid'))\n",
    "\n",
    "classifier.compile(optimizer = 'adam', loss = 'binary_crossentropy', metrics = ['accuracy'])"
   ]
  },
  {
   "cell_type": "code",
   "execution_count": 44,
   "metadata": {},
   "outputs": [
    {
     "name": "stdout",
     "output_type": "stream",
     "text": [
      "Epoch 1/100\n",
      "614/614 [==============================] - 0s - loss: 0.4523 - acc: 0.8208     \n",
      "Epoch 2/100\n",
      "614/614 [==============================] - 0s - loss: 0.4380 - acc: 0.8208     \n",
      "Epoch 3/100\n",
      "614/614 [==============================] - 0s - loss: 0.4374 - acc: 0.8208     \n",
      "Epoch 4/100\n",
      "614/614 [==============================] - 0s - loss: 0.4323 - acc: 0.8241     \n",
      "Epoch 5/100\n",
      "614/614 [==============================] - 0s - loss: 0.4246 - acc: 0.8208     \n",
      "Epoch 6/100\n",
      "614/614 [==============================] - 0s - loss: 0.4120 - acc: 0.8208     \n",
      "Epoch 7/100\n",
      "614/614 [==============================] - 0s - loss: 0.4181 - acc: 0.8225     \n",
      "Epoch 8/100\n",
      "614/614 [==============================] - 0s - loss: 0.4126 - acc: 0.8274     \n",
      "Epoch 9/100\n",
      "614/614 [==============================] - 0s - loss: 0.4131 - acc: 0.8274     \n",
      "Epoch 10/100\n",
      "614/614 [==============================] - 0s - loss: 0.4019 - acc: 0.8241     \n",
      "Epoch 11/100\n",
      "614/614 [==============================] - 0s - loss: 0.3977 - acc: 0.8306     \n",
      "Epoch 12/100\n",
      "614/614 [==============================] - 0s - loss: 0.4004 - acc: 0.8306     \n",
      "Epoch 13/100\n",
      "614/614 [==============================] - 0s - loss: 0.3909 - acc: 0.8371     \n",
      "Epoch 14/100\n",
      "614/614 [==============================] - 0s - loss: 0.3956 - acc: 0.8306     \n",
      "Epoch 15/100\n",
      "614/614 [==============================] - 0s - loss: 0.3928 - acc: 0.8257     \n",
      "Epoch 16/100\n",
      "614/614 [==============================] - 0s - loss: 0.3901 - acc: 0.8371     \n",
      "Epoch 17/100\n",
      "614/614 [==============================] - 0s - loss: 0.3852 - acc: 0.8371     \n",
      "Epoch 18/100\n",
      "614/614 [==============================] - 0s - loss: 0.3799 - acc: 0.8306     \n",
      "Epoch 19/100\n",
      "614/614 [==============================] - 0s - loss: 0.3750 - acc: 0.8388     \n",
      "Epoch 20/100\n",
      "614/614 [==============================] - 0s - loss: 0.3729 - acc: 0.8404     \n",
      "Epoch 21/100\n",
      "614/614 [==============================] - 0s - loss: 0.3669 - acc: 0.8518     \n",
      "Epoch 22/100\n",
      "614/614 [==============================] - 0s - loss: 0.3617 - acc: 0.8436     \n",
      "Epoch 23/100\n",
      "614/614 [==============================] - 0s - loss: 0.3696 - acc: 0.8339     \n",
      "Epoch 24/100\n",
      "614/614 [==============================] - 0s - loss: 0.3502 - acc: 0.8534     \n",
      "Epoch 25/100\n",
      "614/614 [==============================] - 0s - loss: 0.3577 - acc: 0.8388     \n",
      "Epoch 26/100\n",
      "614/614 [==============================] - 0s - loss: 0.3432 - acc: 0.8599     \n",
      "Epoch 27/100\n",
      "614/614 [==============================] - 0s - loss: 0.3419 - acc: 0.8502     \n",
      "Epoch 28/100\n",
      "614/614 [==============================] - 0s - loss: 0.3384 - acc: 0.8599     \n",
      "Epoch 29/100\n",
      "614/614 [==============================] - 0s - loss: 0.3336 - acc: 0.8616     \n",
      "Epoch 30/100\n",
      "614/614 [==============================] - 0s - loss: 0.3289 - acc: 0.8632     \n",
      "Epoch 31/100\n",
      "614/614 [==============================] - 0s - loss: 0.3294 - acc: 0.8632     \n",
      "Epoch 32/100\n",
      "614/614 [==============================] - 0s - loss: 0.3239 - acc: 0.8664     \n",
      "Epoch 33/100\n",
      "614/614 [==============================] - 0s - loss: 0.3218 - acc: 0.8648     \n",
      "Epoch 34/100\n",
      "614/614 [==============================] - 0s - loss: 0.3250 - acc: 0.8632     \n",
      "Epoch 35/100\n",
      "614/614 [==============================] - 0s - loss: 0.3263 - acc: 0.8518     \n",
      "Epoch 36/100\n",
      "614/614 [==============================] - 0s - loss: 0.3110 - acc: 0.8746     \n",
      "Epoch 37/100\n",
      "614/614 [==============================] - 0s - loss: 0.2948 - acc: 0.8762     \n",
      "Epoch 38/100\n",
      "614/614 [==============================] - 0s - loss: 0.3018 - acc: 0.8632     \n",
      "Epoch 39/100\n",
      "614/614 [==============================] - 0s - loss: 0.2954 - acc: 0.8844     \n",
      "Epoch 40/100\n",
      "614/614 [==============================] - 0s - loss: 0.2973 - acc: 0.8730     \n",
      "Epoch 41/100\n",
      "614/614 [==============================] - 0s - loss: 0.2907 - acc: 0.8860     \n",
      "Epoch 42/100\n",
      "614/614 [==============================] - 0s - loss: 0.2772 - acc: 0.8844     \n",
      "Epoch 43/100\n",
      "614/614 [==============================] - 0s - loss: 0.2823 - acc: 0.8827     \n",
      "Epoch 44/100\n",
      "614/614 [==============================] - 0s - loss: 0.2762 - acc: 0.8860     \n",
      "Epoch 45/100\n",
      "614/614 [==============================] - 0s - loss: 0.2805 - acc: 0.8860     \n",
      "Epoch 46/100\n",
      "614/614 [==============================] - 0s - loss: 0.2723 - acc: 0.8827     \n",
      "Epoch 47/100\n",
      "614/614 [==============================] - 0s - loss: 0.2673 - acc: 0.8941     \n",
      "Epoch 48/100\n",
      "614/614 [==============================] - 0s - loss: 0.2616 - acc: 0.8876     \n",
      "Epoch 49/100\n",
      "614/614 [==============================] - 0s - loss: 0.2612 - acc: 0.8925     \n",
      "Epoch 50/100\n",
      "614/614 [==============================] - 0s - loss: 0.2557 - acc: 0.8941     \n",
      "Epoch 51/100\n",
      "614/614 [==============================] - 0s - loss: 0.2428 - acc: 0.9072     \n",
      "Epoch 52/100\n",
      "614/614 [==============================] - 0s - loss: 0.2536 - acc: 0.8909     \n",
      "Epoch 53/100\n",
      "614/614 [==============================] - 0s - loss: 0.2568 - acc: 0.8925     \n",
      "Epoch 54/100\n",
      "614/614 [==============================] - 0s - loss: 0.2456 - acc: 0.9023     \n",
      "Epoch 55/100\n",
      "614/614 [==============================] - 0s - loss: 0.2431 - acc: 0.8941     \n",
      "Epoch 56/100\n",
      "614/614 [==============================] - 0s - loss: 0.2519 - acc: 0.8958     \n",
      "Epoch 57/100\n",
      "614/614 [==============================] - 0s - loss: 0.2497 - acc: 0.8925     \n",
      "Epoch 58/100\n",
      "614/614 [==============================] - 0s - loss: 0.2404 - acc: 0.9104     \n",
      "Epoch 59/100\n",
      "614/614 [==============================] - 0s - loss: 0.2385 - acc: 0.9039     \n",
      "Epoch 60/100\n",
      "614/614 [==============================] - 0s - loss: 0.2425 - acc: 0.9007     \n",
      "Epoch 61/100\n",
      "614/614 [==============================] - 0s - loss: 0.2308 - acc: 0.9088     \n",
      "Epoch 62/100\n",
      "614/614 [==============================] - 0s - loss: 0.2257 - acc: 0.8990     \n",
      "Epoch 63/100\n",
      "614/614 [==============================] - 0s - loss: 0.2425 - acc: 0.9039     \n",
      "Epoch 64/100\n",
      "614/614 [==============================] - 0s - loss: 0.2217 - acc: 0.9072     \n",
      "Epoch 65/100\n",
      "614/614 [==============================] - 0s - loss: 0.2227 - acc: 0.9072     \n",
      "Epoch 66/100\n",
      "614/614 [==============================] - 0s - loss: 0.2174 - acc: 0.9104     \n",
      "Epoch 67/100\n",
      "614/614 [==============================] - 0s - loss: 0.2233 - acc: 0.8990     \n",
      "Epoch 68/100\n",
      "614/614 [==============================] - 0s - loss: 0.2100 - acc: 0.9137     \n",
      "Epoch 69/100\n",
      "614/614 [==============================] - 0s - loss: 0.2310 - acc: 0.9007     \n",
      "Epoch 70/100\n",
      "614/614 [==============================] - 0s - loss: 0.2105 - acc: 0.9202     \n",
      "Epoch 71/100\n",
      "614/614 [==============================] - 0s - loss: 0.2007 - acc: 0.9137     \n",
      "Epoch 72/100\n",
      "614/614 [==============================] - 0s - loss: 0.2019 - acc: 0.9055     \n",
      "Epoch 73/100\n",
      "614/614 [==============================] - 0s - loss: 0.2519 - acc: 0.9007     \n",
      "Epoch 74/100\n",
      "614/614 [==============================] - 0s - loss: 0.2039 - acc: 0.9104     \n",
      "Epoch 75/100\n",
      "614/614 [==============================] - 0s - loss: 0.1999 - acc: 0.9121     \n",
      "Epoch 76/100\n",
      "614/614 [==============================] - 0s - loss: 0.2059 - acc: 0.9137     \n",
      "Epoch 77/100\n",
      "614/614 [==============================] - 0s - loss: 0.2036 - acc: 0.9121     \n",
      "Epoch 78/100\n",
      "614/614 [==============================] - 0s - loss: 0.2043 - acc: 0.9039     \n",
      "Epoch 79/100\n",
      "614/614 [==============================] - 0s - loss: 0.1928 - acc: 0.9137     \n",
      "Epoch 80/100\n",
      "614/614 [==============================] - 0s - loss: 0.2254 - acc: 0.9023     \n",
      "Epoch 81/100\n",
      "614/614 [==============================] - 0s - loss: 0.2057 - acc: 0.9137     \n",
      "Epoch 82/100\n",
      "614/614 [==============================] - 0s - loss: 0.1864 - acc: 0.9169     \n",
      "Epoch 83/100\n",
      "614/614 [==============================] - 0s - loss: 0.1826 - acc: 0.9186     \n",
      "Epoch 84/100\n",
      "614/614 [==============================] - 0s - loss: 0.1791 - acc: 0.9251     \n",
      "Epoch 85/100\n",
      "614/614 [==============================] - 0s - loss: 0.1810 - acc: 0.9235     \n",
      "Epoch 86/100\n",
      "614/614 [==============================] - 0s - loss: 0.1821 - acc: 0.9153     \n",
      "Epoch 87/100\n",
      "614/614 [==============================] - 0s - loss: 0.1878 - acc: 0.9186     \n",
      "Epoch 88/100\n",
      "614/614 [==============================] - 0s - loss: 0.1845 - acc: 0.9202     \n",
      "Epoch 89/100\n"
     ]
    },
    {
     "name": "stdout",
     "output_type": "stream",
     "text": [
      "614/614 [==============================] - 0s - loss: 0.1792 - acc: 0.9235     \n",
      "Epoch 90/100\n",
      "614/614 [==============================] - 0s - loss: 0.2171 - acc: 0.9039     \n",
      "Epoch 91/100\n",
      "614/614 [==============================] - 0s - loss: 0.1664 - acc: 0.9365     - ETA: 0s - loss: 0.1622 - acc: 0.94\n",
      "Epoch 92/100\n",
      "614/614 [==============================] - 0s - loss: 0.1871 - acc: 0.9186     \n",
      "Epoch 93/100\n",
      "614/614 [==============================] - 0s - loss: 0.1930 - acc: 0.9202     \n",
      "Epoch 94/100\n",
      "614/614 [==============================] - 0s - loss: 0.1796 - acc: 0.9104     \n",
      "Epoch 95/100\n",
      "614/614 [==============================] - 0s - loss: 0.1747 - acc: 0.9235     \n",
      "Epoch 96/100\n",
      "614/614 [==============================] - 0s - loss: 0.1702 - acc: 0.9283     \n",
      "Epoch 97/100\n",
      "614/614 [==============================] - 0s - loss: 0.1629 - acc: 0.9153     \n",
      "Epoch 98/100\n",
      "614/614 [==============================] - 0s - loss: 0.1737 - acc: 0.9316     \n",
      "Epoch 99/100\n",
      "614/614 [==============================] - 0s - loss: 0.1854 - acc: 0.9218     \n",
      "Epoch 100/100\n",
      "614/614 [==============================] - 0s - loss: 0.1679 - acc: 0.9316     \n"
     ]
    },
    {
     "data": {
      "text/plain": [
       "<keras.callbacks.History at 0x20132102908>"
      ]
     },
     "execution_count": 44,
     "metadata": {},
     "output_type": "execute_result"
    }
   ],
   "source": [
    "classifier.fit(X, y, batch_size = 10, epochs = 100)"
   ]
  },
  {
   "cell_type": "code",
   "execution_count": 244,
   "metadata": {
    "collapsed": true
   },
   "outputs": [],
   "source": [
    "y_pred = classifier.predict(X_test)"
   ]
  },
  {
   "cell_type": "code",
   "execution_count": 245,
   "metadata": {},
   "outputs": [
    {
     "data": {
      "text/plain": [
       "array([[15, 18],\n",
       "       [ 3, 87]], dtype=int64)"
      ]
     },
     "execution_count": 245,
     "metadata": {},
     "output_type": "execute_result"
    }
   ],
   "source": [
    "from sklearn.metrics import confusion_matrix\n",
    "cm = confusion_matrix(y_test, y_pred)\n",
    "cm"
   ]
  },
  {
   "cell_type": "code",
   "execution_count": 32,
   "metadata": {
    "collapsed": true
   },
   "outputs": [],
   "source": [
    "dataset_test = pd.read_csv('Loan_test.csv')"
   ]
  },
  {
   "cell_type": "code",
   "execution_count": 41,
   "metadata": {},
   "outputs": [
    {
     "ename": "AttributeError",
     "evalue": "'numpy.ndarray' object has no attribute 'head'",
     "output_type": "error",
     "traceback": [
      "\u001b[1;31m---------------------------------------------------------------------------\u001b[0m",
      "\u001b[1;31mAttributeError\u001b[0m                            Traceback (most recent call last)",
      "\u001b[1;32m<ipython-input-41-eb98adcd79d3>\u001b[0m in \u001b[0;36m<module>\u001b[1;34m()\u001b[0m\n\u001b[1;32m----> 1\u001b[1;33m \u001b[0mdataset_test\u001b[0m\u001b[1;33m.\u001b[0m\u001b[0mhead\u001b[0m\u001b[1;33m(\u001b[0m\u001b[1;33m)\u001b[0m\u001b[1;33m\u001b[0m\u001b[0m\n\u001b[0m",
      "\u001b[1;31mAttributeError\u001b[0m: 'numpy.ndarray' object has no attribute 'head'"
     ]
    }
   ],
   "source": [
    "dataset_test.head()"
   ]
  },
  {
   "cell_type": "code",
   "execution_count": null,
   "metadata": {
    "collapsed": true
   },
   "outputs": [],
   "source": []
  },
  {
   "cell_type": "code",
   "execution_count": 34,
   "metadata": {
    "collapsed": true
   },
   "outputs": [],
   "source": [
    "# Filling in missing values in the test set\n",
    "\n",
    "dataset_test['Gender'].fillna('Male', inplace = True)\n",
    "\n",
    "dataset_test['Dependents'].fillna(0, inplace = True)\n",
    "\n",
    "dataset_test['Self_Employed'].fillna('No', inplace = True)\n",
    "\n",
    "dataset_test['LoanAmount'].fillna(136.0, inplace = True)\n",
    "\n",
    "dataset_test['Loan_Amount_Term'].fillna(360.0, inplace = True)\n",
    "\n",
    "dataset_test['Credit_History'].fillna(1.0, inplace = True)"
   ]
  },
  {
   "cell_type": "code",
   "execution_count": 35,
   "metadata": {
    "collapsed": true
   },
   "outputs": [],
   "source": [
    "dataset_test['Dependents'].replace('0', 0, inplace = True)\n",
    "dataset_test['Dependents'].replace('1', 1, inplace = True)\n",
    "dataset_test['Dependents'].replace('2', 2, inplace = True)\n",
    "dataset_test['Dependents'].replace('3+', 3, inplace = True)"
   ]
  },
  {
   "cell_type": "code",
   "execution_count": 36,
   "metadata": {
    "collapsed": true
   },
   "outputs": [],
   "source": [
    "# Encoding the categorical variables of the test set\n",
    "from sklearn.preprocessing import LabelEncoder\n",
    "# obj_cols = [x for x in dataset.columns if dataset[x].dtype == 'object']\n",
    "obj_cols = ['Gender','Married','Education', 'Self_Employed', 'Property_Area']\n",
    "for i in obj_cols:\n",
    "    encoder = LabelEncoder()\n",
    "    encoder.fit(dataset_test[i])\n",
    "    dataset_test[i] = encoder.transform(dataset_test[i])"
   ]
  },
  {
   "cell_type": "code",
   "execution_count": 37,
   "metadata": {
    "collapsed": true
   },
   "outputs": [],
   "source": [
    "Loan_id = dataset_test['Loan_ID']"
   ]
  },
  {
   "cell_type": "code",
   "execution_count": 38,
   "metadata": {
    "collapsed": true
   },
   "outputs": [],
   "source": [
    "dataset_test = dataset_test.drop('Loan_ID', axis = 1)"
   ]
  },
  {
   "cell_type": "code",
   "execution_count": 40,
   "metadata": {},
   "outputs": [],
   "source": [
    "sc_test = StandardScaler()\n",
    "dataset_test = sc_test.fit_transform(dataset_test)"
   ]
  },
  {
   "cell_type": "code",
   "execution_count": 46,
   "metadata": {},
   "outputs": [],
   "source": [
    "predictions = classifier.predict(dataset_test)"
   ]
  },
  {
   "cell_type": "code",
   "execution_count": 48,
   "metadata": {},
   "outputs": [],
   "source": [
    "predictions = (predictions > 0.5)\n",
    "predictions = predictions.astype(int)"
   ]
  },
  {
   "cell_type": "code",
   "execution_count": 51,
   "metadata": {
    "collapsed": true
   },
   "outputs": [],
   "source": [
    "pd.DataFrame({'Loan_ID': Loan_id,\n",
    "'Loan_Status': predictions.astype(np.int64, copy=False)}\n",
    ").to_csv(\"submission_ANN.csv\", index=False)"
   ]
  },
  {
   "cell_type": "code",
   "execution_count": 248,
   "metadata": {
    "collapsed": true
   },
   "outputs": [],
   "source": [
    "test = dataset_test"
   ]
  },
  {
   "cell_type": "code",
   "execution_count": 50,
   "metadata": {},
   "outputs": [],
   "source": [
    "predictions = predictions.reshape(-1,)"
   ]
  },
  {
   "cell_type": "code",
   "execution_count": null,
   "metadata": {
    "collapsed": true
   },
   "outputs": [],
   "source": []
  },
  {
   "cell_type": "code",
   "execution_count": null,
   "metadata": {
    "collapsed": true
   },
   "outputs": [],
   "source": []
  }
 ],
 "metadata": {
  "kernelspec": {
   "display_name": "Python 3",
   "language": "python",
   "name": "python3"
  },
  "language_info": {
   "codemirror_mode": {
    "name": "ipython",
    "version": 3
   },
   "file_extension": ".py",
   "mimetype": "text/x-python",
   "name": "python",
   "nbconvert_exporter": "python",
   "pygments_lexer": "ipython3",
   "version": "3.5.4"
  }
 },
 "nbformat": 4,
 "nbformat_minor": 2
}
